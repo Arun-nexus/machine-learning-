{
 "cells": [
  {
   "metadata": {
    "ExecuteTime": {
     "end_time": "2025-10-22T13:53:36.025565Z",
     "start_time": "2025-10-22T13:53:36.020440Z"
    }
   },
   "cell_type": "code",
   "source": "import  numpy as np",
   "id": "4cfc006a69285b45",
   "outputs": [],
   "execution_count": 20
  },
  {
   "cell_type": "code",
   "id": "initial_id",
   "metadata": {
    "collapsed": true,
    "ExecuteTime": {
     "end_time": "2025-10-22T13:55:27.210989Z",
     "start_time": "2025-10-22T13:55:27.195478Z"
    }
   },
   "source": [
    "class multiplelr:\n",
    "    def __init__(self):\n",
    "        self.coeff = None\n",
    "        self.intercept = None\n",
    "    def fit(self,x_train,y_train):\n",
    "        x_train = np.insert(x_train,0,1,axis=1)\n",
    "        betas = np.linalg.inv(np.dot(x_train.T,x_train)).dot(x_train.T).dot(y_train)\n",
    "        self.coeff = betas[1:]\n",
    "        self.intercept = betas[0]\n",
    "    def predict(self,x_test):\n",
    "        return self.intercept + np.dot(x_test,self.coeff)"
   ],
   "outputs": [],
   "execution_count": 24
  },
  {
   "metadata": {
    "ExecuteTime": {
     "end_time": "2025-10-22T13:49:21.967444Z",
     "start_time": "2025-10-22T13:49:18.135090Z"
    }
   },
   "cell_type": "code",
   "source": "|from sklearn.datasets import make_regression",
   "id": "588a6f8d3e2b1e04",
   "outputs": [],
   "execution_count": 4
  },
  {
   "metadata": {
    "ExecuteTime": {
     "end_time": "2025-10-22T13:50:37.198230Z",
     "start_time": "2025-10-22T13:50:37.173841Z"
    }
   },
   "cell_type": "code",
   "source": "x,y=make_regression(n_samples=500,n_features=10,noise=10,random_state=5)",
   "id": "f6f96199e6d385fc",
   "outputs": [],
   "execution_count": 5
  },
  {
   "metadata": {
    "ExecuteTime": {
     "end_time": "2025-10-22T13:51:20.827265Z",
     "start_time": "2025-10-22T13:51:20.722628Z"
    }
   },
   "cell_type": "code",
   "source": "from sklearn.model_selection import train_test_split",
   "id": "8fe35bfde716172a",
   "outputs": [],
   "execution_count": 9
  },
  {
   "metadata": {
    "ExecuteTime": {
     "end_time": "2025-10-22T13:51:57.649725Z",
     "start_time": "2025-10-22T13:51:57.641780Z"
    }
   },
   "cell_type": "code",
   "source": "x_train,x_test,y_train,y_test=train_test_split(x,y,test_size=0.3,random_state=7)",
   "id": "52ad9482b8b3f221",
   "outputs": [],
   "execution_count": 10
  },
  {
   "metadata": {
    "ExecuteTime": {
     "end_time": "2025-10-22T13:55:30.049157Z",
     "start_time": "2025-10-22T13:55:30.029686Z"
    }
   },
   "cell_type": "code",
   "source": [
    "model=multiplelr()\n",
    "model.fit(x_train,y_train)\n",
    "pred = model.predict(x_test)"
   ],
   "id": "b2087b603189fa7",
   "outputs": [],
   "execution_count": 25
  },
  {
   "metadata": {
    "ExecuteTime": {
     "end_time": "2025-10-22T14:00:46.657932Z",
     "start_time": "2025-10-22T14:00:46.650665Z"
    }
   },
   "cell_type": "code",
   "source": [
    "print(pred.shape)\n",
    "print(x_test.shape)"
   ],
   "id": "2fe2c63c12ae9a44",
   "outputs": [
    {
     "name": "stdout",
     "output_type": "stream",
     "text": [
      "(150,)\n",
      "(150, 10)\n"
     ]
    }
   ],
   "execution_count": 35
  },
  {
   "metadata": {
    "ExecuteTime": {
     "end_time": "2025-10-22T13:56:07.513657Z",
     "start_time": "2025-10-22T13:56:07.507600Z"
    }
   },
   "cell_type": "code",
   "source": [
    "from sklearn.linear_model import LinearRegression\n",
    "from sklearn.metrics import  mean_squared_error,r2_score"
   ],
   "id": "6815c88cdd55d9dc",
   "outputs": [],
   "execution_count": 27
  },
  {
   "metadata": {
    "ExecuteTime": {
     "end_time": "2025-10-22T13:57:10.048107Z",
     "start_time": "2025-10-22T13:57:10.014889Z"
    }
   },
   "cell_type": "code",
   "source": [
    "skmodel = LinearRegression()\n",
    "skmodel.fit(x_train,y_train)\n",
    "skpred=skmodel.predict(x_test)"
   ],
   "id": "cd40d5e67475be84",
   "outputs": [],
   "execution_count": 28
  },
  {
   "metadata": {
    "ExecuteTime": {
     "end_time": "2025-10-22T13:58:52.112189Z",
     "start_time": "2025-10-22T13:58:52.097911Z"
    }
   },
   "cell_type": "code",
   "source": [
    "print(skmodel.coef_,model.coeff)\n",
    "print(skmodel.intercept_,model.intercept)"
   ],
   "id": "2aac09befe457305",
   "outputs": [
    {
     "name": "stdout",
     "output_type": "stream",
     "text": [
      "[11.48198118 23.35053343 44.75721762 73.48459407 82.15020106 80.25848611\n",
      " 49.09638358 97.81430873 42.90133165 72.47617568] [11.48198118 23.35053343 44.75721762 73.48459407 82.15020106 80.25848611\n",
      " 49.09638358 97.81430873 42.90133165 72.47617568]\n",
      "-0.6151214784799288 -0.615121478479932\n"
     ]
    }
   ],
   "execution_count": 31
  },
  {
   "metadata": {
    "ExecuteTime": {
     "end_time": "2025-10-22T14:01:11.249859Z",
     "start_time": "2025-10-22T14:01:11.223118Z"
    }
   },
   "cell_type": "code",
   "source": [
    "print(mean_squared_error(y_test,pred))\n",
    "print(r2_score(y_test,pred))\n",
    "print(mean_squared_error(y_test,skpred))\n",
    "print(r2_score(y_test,skpred))"
   ],
   "id": "806fef29828a4910",
   "outputs": [
    {
     "name": "stdout",
     "output_type": "stream",
     "text": [
      "89.1517697143494\n",
      "0.997886605674991\n",
      "89.15176971434987\n",
      "0.997886605674991\n"
     ]
    }
   ],
   "execution_count": 37
  }
 ],
 "metadata": {
  "kernelspec": {
   "display_name": "Python 3",
   "language": "python",
   "name": "python3"
  },
  "language_info": {
   "codemirror_mode": {
    "name": "ipython",
    "version": 2
   },
   "file_extension": ".py",
   "mimetype": "text/x-python",
   "name": "python",
   "nbconvert_exporter": "python",
   "pygments_lexer": "ipython2",
   "version": "2.7.6"
  }
 },
 "nbformat": 4,
 "nbformat_minor": 5
}
