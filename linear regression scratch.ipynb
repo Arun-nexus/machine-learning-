{
 "cells": [
  {
   "cell_type": "code",
   "id": "initial_id",
   "metadata": {
    "collapsed": true,
    "ExecuteTime": {
     "end_time": "2025-10-22T10:13:25.047447Z",
     "start_time": "2025-10-22T10:13:25.037866Z"
    }
   },
   "source": [
    "class linear_regression:\n",
    "    def __init__(self):\n",
    "        self.m=None\n",
    "        self.b = None\n",
    "    def fit(self,x_train,y_train):\n",
    "        num =0\n",
    "        den =0\n",
    "\n",
    "        for i in range(x_train.shape[0]):\n",
    "            num = num + (y_train[i] - y_train.mean()) * (x_train[i] - x_train.mean())\n",
    "            den = den + (x_train[i]-x_train.mean())*(x_train[i]-x_train.mean())\n",
    "        self.m= num/den\n",
    "        self.b = y_train.mean()-self.m * x_train.mean()\n",
    "    def predict(self,x_test):\n",
    "        pred=[]\n",
    "        for i in range(x_test.shape[0]):\n",
    "            p =self.m * x_test[i] + self.b\n",
    "            pred.append(p)\n",
    "        return pred"
   ],
   "outputs": [],
   "execution_count": 50
  },
  {
   "metadata": {
    "ExecuteTime": {
     "end_time": "2025-10-22T09:46:39.208368Z",
     "start_time": "2025-10-22T09:46:38.644399Z"
    }
   },
   "cell_type": "code",
   "source": [
    "import numpy as np\n",
    "import pandas as pd"
   ],
   "id": "6b51e4765225ec26",
   "outputs": [],
   "execution_count": 1
  },
  {
   "metadata": {
    "ExecuteTime": {
     "end_time": "2025-10-22T09:50:14.000720Z",
     "start_time": "2025-10-22T09:50:13.965937Z"
    }
   },
   "cell_type": "code",
   "source": [
    "df= pd.read_csv(r\"C:\\Users\\Arun\\Downloads\\linear_regression_dataset.csv\")\n",
    "df.head()"
   ],
   "id": "ad296d6ff3ce0c1b",
   "outputs": [
    {
     "data": {
      "text/plain": [
       "   Feature_X    Target_Y\n",
       "0  37.454012  203.795733\n",
       "1  95.071431  509.106563\n",
       "2  73.199394  382.909989\n",
       "3  59.865848  277.089208\n",
       "4  15.601864   68.255948"
      ],
      "text/html": [
       "<div>\n",
       "<style scoped>\n",
       "    .dataframe tbody tr th:only-of-type {\n",
       "        vertical-align: middle;\n",
       "    }\n",
       "\n",
       "    .dataframe tbody tr th {\n",
       "        vertical-align: top;\n",
       "    }\n",
       "\n",
       "    .dataframe thead th {\n",
       "        text-align: right;\n",
       "    }\n",
       "</style>\n",
       "<table border=\"1\" class=\"dataframe\">\n",
       "  <thead>\n",
       "    <tr style=\"text-align: right;\">\n",
       "      <th></th>\n",
       "      <th>Feature_X</th>\n",
       "      <th>Target_Y</th>\n",
       "    </tr>\n",
       "  </thead>\n",
       "  <tbody>\n",
       "    <tr>\n",
       "      <th>0</th>\n",
       "      <td>37.454012</td>\n",
       "      <td>203.795733</td>\n",
       "    </tr>\n",
       "    <tr>\n",
       "      <th>1</th>\n",
       "      <td>95.071431</td>\n",
       "      <td>509.106563</td>\n",
       "    </tr>\n",
       "    <tr>\n",
       "      <th>2</th>\n",
       "      <td>73.199394</td>\n",
       "      <td>382.909989</td>\n",
       "    </tr>\n",
       "    <tr>\n",
       "      <th>3</th>\n",
       "      <td>59.865848</td>\n",
       "      <td>277.089208</td>\n",
       "    </tr>\n",
       "    <tr>\n",
       "      <th>4</th>\n",
       "      <td>15.601864</td>\n",
       "      <td>68.255948</td>\n",
       "    </tr>\n",
       "  </tbody>\n",
       "</table>\n",
       "</div>"
      ]
     },
     "execution_count": 4,
     "metadata": {},
     "output_type": "execute_result"
    }
   ],
   "execution_count": 4
  },
  {
   "metadata": {
    "ExecuteTime": {
     "end_time": "2025-10-22T09:55:12.937179Z",
     "start_time": "2025-10-22T09:55:12.931488Z"
    }
   },
   "cell_type": "code",
   "source": [
    "x=df.iloc[:,0].values\n",
    "y=df.iloc[:,1].values"
   ],
   "id": "3024f6c50dec3d15",
   "outputs": [],
   "execution_count": 18
  },
  {
   "metadata": {
    "ExecuteTime": {
     "end_time": "2025-10-22T10:16:30.360361Z",
     "start_time": "2025-10-22T10:16:17.766312Z"
    }
   },
   "cell_type": "code",
   "source": [
    "from sklearn.linear_model import LinearRegression\n",
    "from sklearn.model_selection import train_test_split\n",
    "from sklearn.metrics import mean_squared_error"
   ],
   "id": "56291c8470f2d192",
   "outputs": [],
   "execution_count": 55
  },
  {
   "metadata": {
    "ExecuteTime": {
     "end_time": "2025-10-22T10:05:01.258873Z",
     "start_time": "2025-10-22T10:05:01.243906Z"
    }
   },
   "cell_type": "code",
   "source": "x_train,x_test,y_train,y_test=train_test_split(x,y,test_size=0.2,random_state=5)",
   "id": "f77902f5204aaa2",
   "outputs": [],
   "execution_count": 30
  },
  {
   "metadata": {
    "ExecuteTime": {
     "end_time": "2025-10-22T10:05:02.919913Z",
     "start_time": "2025-10-22T10:05:02.909338Z"
    }
   },
   "cell_type": "code",
   "source": "print(x_train.shape,y_train.shape)",
   "id": "e5884672bc053f46",
   "outputs": [
    {
     "name": "stdout",
     "output_type": "stream",
     "text": [
      "(400,) (400,)\n"
     ]
    }
   ],
   "execution_count": 31
  },
  {
   "metadata": {
    "ExecuteTime": {
     "end_time": "2025-10-22T10:13:30.659588Z",
     "start_time": "2025-10-22T10:13:30.647329Z"
    }
   },
   "cell_type": "code",
   "source": [
    "model=linear_regression()\n",
    "model.fit(x_train,y_train)"
   ],
   "id": "671910ee174f2dab",
   "outputs": [],
   "execution_count": 51
  },
  {
   "metadata": {
    "ExecuteTime": {
     "end_time": "2025-10-22T10:13:31.479003Z",
     "start_time": "2025-10-22T10:13:31.471821Z"
    }
   },
   "cell_type": "code",
   "source": "pred=model.predict(x_test)",
   "id": "8263161b2e4a3db9",
   "outputs": [],
   "execution_count": 52
  },
  {
   "metadata": {
    "ExecuteTime": {
     "end_time": "2025-10-22T10:13:32.138597Z",
     "start_time": "2025-10-22T10:13:32.122788Z"
    }
   },
   "cell_type": "code",
   "source": "print(pred)",
   "id": "1c3a077ed669fe08",
   "outputs": [
    {
     "name": "stdout",
     "output_type": "stream",
     "text": [
      "[457.99659025198, 194.40857611190165, 355.36586504248277, 320.2101299605048, 340.1901561551936, 428.82867771282287, 263.51072810835194, 156.6876215937281, 78.4084065188391, 65.46627174021891, 63.10162491850265, 204.55894717305551, 42.416548210130884, 462.4187367420889, 282.03976277416496, 46.305015138118506, 329.4155755766315, 132.03397325340597, 440.1717605139863, 170.08658237081113, 258.30860727549236, 370.2467922581205, 121.2011138315366, 176.94867274733437, 113.3960139559264, 317.2492422320672, 156.51373972970015, 190.5100828776266, 77.2932243090454, 54.92308848281128, 308.3001928215303, 410.2200481186617, 306.94524946010876, 415.4707243043762, 261.4102770269848, 432.11876130465066, 398.0721498893438, 374.06778604502176, 456.48103520597294, 277.52044646115615, 436.2886797453721, 331.8927215504549, 317.1125790901416, 454.9485335621594, 149.86810539971867, 463.3368297145963, 289.04276856345996, 59.8419738590959, 465.14038261499223, 451.85028732517173, 43.7136743935682, 468.0001953644695, 427.4967874911778, 293.03921691812104, 135.76149986606208, 34.32149998891905, 437.64206124632256, 71.95327556487952, 61.43396001615343, 124.0697473636825, 182.84395041907948, 234.30655420498232, 193.77477831337896, 151.4140854693058, 363.1401034617894, 72.93910181321064, 64.3765954989306, 253.26746077387722, 474.48040561634645, 311.7998891442629, 304.81324661588013, 431.34646698893727, 318.9548792802597, 133.17169280388714, 389.4351596427085, 151.3320444645148, 87.026007094472, 185.15174291434727, 192.47319701166333, 290.0098738510542, 246.05816192343775, 86.37333766459265, 429.3478383999192, 337.9949388112246, 367.47777095283186, 451.41240621903944, 167.82654951797744, 303.73275368529704, 61.11557994079173, 437.1608898281259, 432.07062299547385, 455.6954717007681, 475.8086584578532, 61.666557284972306, 75.6863300565445, 39.55421994766059, 111.81143791127727, 309.7069217429747, 137.61009448414998, 461.8836466421423]\n"
     ]
    }
   ],
   "execution_count": 53
  },
  {
   "metadata": {
    "ExecuteTime": {
     "end_time": "2025-10-22T10:20:51.542754Z",
     "start_time": "2025-10-22T10:20:51.528527Z"
    }
   },
   "cell_type": "code",
   "source": "print(mean_squared_error(x_test,y_test))",
   "id": "c51d5399eba0d248",
   "outputs": [
    {
     "name": "stdout",
     "output_type": "stream",
     "text": [
      "55912.57556603364\n"
     ]
    }
   ],
   "execution_count": 57
  },
  {
   "metadata": {},
   "cell_type": "code",
   "outputs": [],
   "execution_count": null,
   "source": "",
   "id": "a01e56e81f0195e4"
  }
 ],
 "metadata": {
  "kernelspec": {
   "display_name": "Python 3",
   "language": "python",
   "name": "python3"
  },
  "language_info": {
   "codemirror_mode": {
    "name": "ipython",
    "version": 2
   },
   "file_extension": ".py",
   "mimetype": "text/x-python",
   "name": "python",
   "nbconvert_exporter": "python",
   "pygments_lexer": "ipython2",
   "version": "2.7.6"
  }
 },
 "nbformat": 4,
 "nbformat_minor": 5
}
