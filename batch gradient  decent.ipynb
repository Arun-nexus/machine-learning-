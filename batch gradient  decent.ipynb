{
 "cells": [
  {
   "cell_type": "code",
   "id": "initial_id",
   "metadata": {
    "collapsed": true,
    "ExecuteTime": {
     "end_time": "2025-10-24T10:43:15.567455Z",
     "start_time": "2025-10-24T10:43:13.787493Z"
    }
   },
   "source": [
    "from sklearn.datasets import make_regression\n",
    "from sklearn.model_selection import train_test_split\n",
    "from sklearn.linear_model import LinearRegression\n",
    "from sklearn.metrics import r2_score\n",
    "import numpy as np"
   ],
   "outputs": [],
   "execution_count": 1
  },
  {
   "metadata": {
    "ExecuteTime": {
     "end_time": "2025-10-24T10:48:10.465173Z",
     "start_time": "2025-10-24T10:48:10.446823Z"
    }
   },
   "cell_type": "code",
   "source": "x,y = make_regression(5000,50,noise=10,random_state=5)",
   "id": "2513d1a5f665870d",
   "outputs": [],
   "execution_count": 4
  },
  {
   "metadata": {
    "ExecuteTime": {
     "end_time": "2025-10-24T10:48:10.667455Z",
     "start_time": "2025-10-24T10:48:10.655425Z"
    }
   },
   "cell_type": "code",
   "source": "x_train,x_test,y_train,y_test = train_test_split(x,y,test_size=0.3,random_state=7)",
   "id": "95f38ce0ffe2d337",
   "outputs": [],
   "execution_count": 5
  },
  {
   "metadata": {
    "ExecuteTime": {
     "end_time": "2025-10-24T10:48:11.595644Z",
     "start_time": "2025-10-24T10:48:11.569624Z"
    }
   },
   "cell_type": "code",
   "source": [
    "li=LinearRegression()\n",
    "li.fit(x_train,y_train)\n",
    "lipred=li.predict(x_test)"
   ],
   "id": "6e033c81c7d2c7af",
   "outputs": [],
   "execution_count": 6
  },
  {
   "metadata": {
    "ExecuteTime": {
     "end_time": "2025-10-24T10:48:12.417183Z",
     "start_time": "2025-10-24T10:48:12.403632Z"
    }
   },
   "cell_type": "code",
   "source": "print(r2_score(y_test,lipred))",
   "id": "a89697d57bf9e6fa",
   "outputs": [
    {
     "name": "stdout",
     "output_type": "stream",
     "text": [
      "0.9974503479395772\n"
     ]
    }
   ],
   "execution_count": 7
  },
  {
   "metadata": {
    "ExecuteTime": {
     "end_time": "2025-10-24T10:50:36.153337Z",
     "start_time": "2025-10-24T10:50:36.138706Z"
    }
   },
   "cell_type": "code",
   "source": "x_train.shape[0]",
   "id": "524919cea278a519",
   "outputs": [
    {
     "data": {
      "text/plain": [
       "3500"
      ]
     },
     "execution_count": 12,
     "metadata": {},
     "output_type": "execute_result"
    }
   ],
   "execution_count": 12
  },
  {
   "metadata": {
    "ExecuteTime": {
     "end_time": "2025-10-24T11:03:22.143818Z",
     "start_time": "2025-10-24T11:03:22.133324Z"
    }
   },
   "cell_type": "code",
   "source": [
    "class gdressor:\n",
    "    def __init__(self,epochs=5,lr=0.01):\n",
    "        self.coef=None\n",
    "        self.intercept = None\n",
    "        self.epochs = epochs\n",
    "        self.lr = lr\n",
    "    def fit(self,x_train,y_train):\n",
    "        self.coef=np.ones(x_train.shape[1])\n",
    "        self.intercept=0\n",
    "        for i in range(self.epochs):\n",
    "            y_hat= np.dot(x_train,self.coef) + self.intercept\n",
    "            slope = -2 * np.mean(y_train - y_hat)\n",
    "            self.intercept = self.intercept - self.lr * slope\n",
    "            coef_slope = -2 * np.dot((y_train - y_hat),x_train)/x_train.shape[0]\n",
    "            self.coef = self.coef - self.lr * coef_slope\n",
    "    def predict(self,x_test):\n",
    "        return np.dot(x_test,self.coef) +self.intercept\n"
   ],
   "id": "7d580424bcff47bb",
   "outputs": [],
   "execution_count": 47
  },
  {
   "metadata": {
    "ExecuteTime": {
     "end_time": "2025-10-24T11:04:27.160069Z",
     "start_time": "2025-10-24T11:04:27.149564Z"
    }
   },
   "cell_type": "code",
   "source": [
    "mymodel=gdressor(epochs=2,lr=0.5)\n",
    "mymodel.fit(x_train,y_train)\n",
    "pred = mymodel.predict(x_test)"
   ],
   "id": "6ed4453ac80d84",
   "outputs": [],
   "execution_count": 63
  },
  {
   "metadata": {
    "ExecuteTime": {
     "end_time": "2025-10-24T11:04:27.363516Z",
     "start_time": "2025-10-24T11:04:27.346797Z"
    }
   },
   "cell_type": "code",
   "source": "pred",
   "id": "9ac34b65b0e80eb2",
   "outputs": [
    {
     "data": {
      "text/plain": [
       "array([ -21.31329135,    4.78360153, -106.681591  , ...,  390.35600786,\n",
       "         16.14526343, -102.50194995])"
      ]
     },
     "execution_count": 64,
     "metadata": {},
     "output_type": "execute_result"
    }
   ],
   "execution_count": 64
  },
  {
   "metadata": {
    "ExecuteTime": {
     "end_time": "2025-10-24T11:04:27.533968Z",
     "start_time": "2025-10-24T11:04:27.522292Z"
    }
   },
   "cell_type": "code",
   "source": "print(r2_score(y_test,pred))",
   "id": "84597a2ad5aead68",
   "outputs": [
    {
     "name": "stdout",
     "output_type": "stream",
     "text": [
      "0.9971600895481588\n"
     ]
    }
   ],
   "execution_count": 65
  },
  {
   "metadata": {
    "ExecuteTime": {
     "end_time": "2025-10-24T11:02:13.142159Z",
     "start_time": "2025-10-24T11:02:13.135084Z"
    }
   },
   "cell_type": "code",
   "source": "",
   "id": "c091e95a93e26070",
   "outputs": [],
   "execution_count": null
  },
  {
   "metadata": {},
   "cell_type": "code",
   "outputs": [],
   "execution_count": null,
   "source": "",
   "id": "58d924905512712d"
  }
 ],
 "metadata": {
  "kernelspec": {
   "display_name": "Python 3",
   "language": "python",
   "name": "python3"
  },
  "language_info": {
   "codemirror_mode": {
    "name": "ipython",
    "version": 2
   },
   "file_extension": ".py",
   "mimetype": "text/x-python",
   "name": "python",
   "nbconvert_exporter": "python",
   "pygments_lexer": "ipython2",
   "version": "2.7.6"
  }
 },
 "nbformat": 4,
 "nbformat_minor": 5
}
