{
 "cells": [
  {
   "cell_type": "code",
   "id": "initial_id",
   "metadata": {
    "collapsed": true,
    "ExecuteTime": {
     "end_time": "2025-10-24T11:53:02.205468Z",
     "start_time": "2025-10-24T11:53:02.188009Z"
    }
   },
   "source": [
    "from sklearn.datasets import make_regression\n",
    "from sklearn.model_selection import train_test_split\n",
    "from sklearn.linear_model import LinearRegression,SGDRegressor\n",
    "from sklearn.metrics import r2_score\n",
    "import numpy as np"
   ],
   "outputs": [],
   "execution_count": 195
  },
  {
   "metadata": {
    "ExecuteTime": {
     "end_time": "2025-10-24T11:11:33.056318Z",
     "start_time": "2025-10-24T11:11:33.033191Z"
    }
   },
   "cell_type": "code",
   "source": "x,y = make_regression(5000,50,noise=10,random_state=5)\n",
   "id": "a11db746e18add55",
   "outputs": [],
   "execution_count": 2
  },
  {
   "metadata": {
    "ExecuteTime": {
     "end_time": "2025-10-24T11:11:33.071432Z",
     "start_time": "2025-10-24T11:11:33.062424Z"
    }
   },
   "cell_type": "code",
   "source": "x_train,x_test,y_train,y_test = train_test_split(x,y,test_size=0.3,random_state=7)",
   "id": "ddeebda984c1794f",
   "outputs": [],
   "execution_count": 3
  },
  {
   "metadata": {
    "ExecuteTime": {
     "end_time": "2025-10-24T11:11:33.101288Z",
     "start_time": "2025-10-24T11:11:33.077106Z"
    }
   },
   "cell_type": "code",
   "source": [
    "li=LinearRegression()\n",
    "li.fit(x_train,y_train)\n",
    "lipred=li.predict(x_test)"
   ],
   "id": "571884ed0d63a38c",
   "outputs": [],
   "execution_count": 4
  },
  {
   "metadata": {
    "ExecuteTime": {
     "end_time": "2025-10-24T11:11:33.116410Z",
     "start_time": "2025-10-24T11:11:33.107597Z"
    }
   },
   "cell_type": "code",
   "source": "print(r2_score(y_test,lipred))",
   "id": "8027802f9ea3aa7a",
   "outputs": [
    {
     "name": "stdout",
     "output_type": "stream",
     "text": [
      "0.9974503479395772\n"
     ]
    }
   ],
   "execution_count": 5
  },
  {
   "metadata": {
    "ExecuteTime": {
     "end_time": "2025-10-24T11:39:10.393287Z",
     "start_time": "2025-10-24T11:39:10.373952Z"
    }
   },
   "cell_type": "code",
   "source": [
    "sgb=SGDRegressor()\n",
    "sgb.fit(x_train,y_train)\n",
    "sgdpred=sgb.predict(x_test)"
   ],
   "id": "ec212e429b583d3e",
   "outputs": [],
   "execution_count": 171
  },
  {
   "metadata": {
    "ExecuteTime": {
     "end_time": "2025-10-24T11:39:10.687001Z",
     "start_time": "2025-10-24T11:39:10.669933Z"
    }
   },
   "cell_type": "code",
   "source": "print(r2_score(y_test, sgdpred))",
   "id": "6910b6dcd387bc17",
   "outputs": [
    {
     "name": "stdout",
     "output_type": "stream",
     "text": [
      "0.997434457211343\n"
     ]
    }
   ],
   "execution_count": 172
  },
  {
   "metadata": {
    "ExecuteTime": {
     "end_time": "2025-10-24T11:39:12.108266Z",
     "start_time": "2025-10-24T11:39:12.088510Z"
    }
   },
   "cell_type": "code",
   "source": [
    "class meraregrssor:\n",
    "    def __init__(self,epochs=5,lr=0.01):\n",
    "        self.coef=None\n",
    "        self.intercept = None\n",
    "        self.epochs = epochs\n",
    "        self.lr = lr\n",
    "    def fit(self,x_train,y_train):\n",
    "        self.coef=np.zeros(x_train.shape[1])\n",
    "        self.intercept=0\n",
    "        for i in range(self.epochs):\n",
    "            for j in range(x_train.shape[1]):\n",
    "                idx = np.random.randint(0,x_train.shape[1])\n",
    "                y_hat = np.dot(x_train[idx],self.coef) + self.intercept\n",
    "                slope = -2 * (y_train[idx]-y_hat)\n",
    "                self.intercept = self.intercept - (self.lr * slope)\n",
    "                m_slope = -2 * np.dot((y_train[idx]-y_hat),x_train[idx])\n",
    "                self.coef = self.coef - (self.lr*m_slope)\n",
    "    def predict(self,x_test):\n",
    "        return  np.dot(x_test,self.coef)+self.intercept"
   ],
   "id": "4dfe84f419d59e2d",
   "outputs": [],
   "execution_count": 173
  },
  {
   "metadata": {
    "ExecuteTime": {
     "end_time": "2025-10-24T11:39:12.717456Z",
     "start_time": "2025-10-24T11:39:12.698267Z"
    }
   },
   "cell_type": "code",
   "source": [
    "sgd=meraregrssor()\n",
    "sgd.fit(x_train,y_train)\n",
    "merapred=sgd.predict(x_test)"
   ],
   "id": "dbcedfe6692ddfae",
   "outputs": [],
   "execution_count": 174
  },
  {
   "metadata": {
    "ExecuteTime": {
     "end_time": "2025-10-24T11:39:13.371854Z",
     "start_time": "2025-10-24T11:39:13.351973Z"
    }
   },
   "cell_type": "code",
   "source": "print(r2_score(y_test,merapred))",
   "id": "66aba85eebbd7646",
   "outputs": [
    {
     "name": "stdout",
     "output_type": "stream",
     "text": [
      "0.8511798014890397\n"
     ]
    }
   ],
   "execution_count": 175
  }
 ],
 "metadata": {
  "kernelspec": {
   "display_name": "Python 3",
   "language": "python",
   "name": "python3"
  },
  "language_info": {
   "codemirror_mode": {
    "name": "ipython",
    "version": 2
   },
   "file_extension": ".py",
   "mimetype": "text/x-python",
   "name": "python",
   "nbconvert_exporter": "python",
   "pygments_lexer": "ipython2",
   "version": "2.7.6"
  }
 },
 "nbformat": 4,
 "nbformat_minor": 5
}
